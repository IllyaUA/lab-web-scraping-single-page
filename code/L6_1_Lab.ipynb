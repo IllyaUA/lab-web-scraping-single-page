{
 "cells": [
  {
   "cell_type": "markdown",
   "id": "3d24ba94",
   "metadata": {},
   "source": [
    "Web Scraping using Python"
   ]
  },
  {
   "cell_type": "markdown",
   "id": "4e726b13",
   "metadata": {},
   "source": [
    "Lab 1: Single page scraping"
   ]
  },
  {
   "cell_type": "code",
   "execution_count": 43,
   "id": "eea356f6",
   "metadata": {},
   "outputs": [],
   "source": [
    "#function: scrape_hot100() "
   ]
  },
  {
   "cell_type": "code",
   "execution_count": 44,
   "id": "4b815da9",
   "metadata": {},
   "outputs": [],
   "source": [
    "import requests\n",
    "from bs4 import BeautifulSoup\n",
    "import pandas as pd\n",
    "\n",
    "from time import sleep\n",
    "from random import randint\n"
   ]
  },
  {
   "cell_type": "code",
   "execution_count": 45,
   "id": "e98b480b",
   "metadata": {},
   "outputs": [],
   "source": [
    "url = 'https://www.billboard.com/charts/hot-100'\n",
    "#wait_time = randint(1, 5) # 5"
   ]
  },
  {
   "cell_type": "code",
   "execution_count": 46,
   "id": "d66222e0",
   "metadata": {},
   "outputs": [],
   "source": [
    "# Scrao Billboard Hot 100 songs and artists\n",
    "def scrape_hot100(url:str):\n",
    "    # Send request\n",
    "    song_list= []\n",
    "    artists_name = []\n",
    "    \n",
    "    response = requests.get(url) #fetch the page\n",
    "\n",
    "    if response.status_code == 200:\n",
    "        # Parse the HTML content of the page\n",
    "        soup = BeautifulSoup(response.text, 'html.parser')\n",
    "        \n",
    "        #parse List Items\n",
    "        items = soup.select('li h3#title-of-a-story.c-title')\n",
    "        \n",
    "        #extract song titles\n",
    "        song_names = [item.text.strip() for item in items]\n",
    "        \n",
    "        #extract artists\n",
    "        items = soup.select('li h3#title-of-a-story.c-title + span')\n",
    "        \n",
    "        artist_names = [item.text.strip() for item in items]\n",
    "\n",
    "        # Create a DataFrame to store the data\n",
    "        df = pd.DataFrame({'Song': song_names, 'Artist': artist_names})\n",
    "\n",
    "        # Save the DataFrame to a CSV file in the current folder\n",
    "        df.to_csv(r'..\\data\\billboard_hot100.csv', index=False)\n",
    "        print(\"Data has been scraped and saved to 'billboard_hot100.csv'.\")\n",
    "        return df\n",
    "    else:\n",
    "        print(\"Failed to retrieve the webpage.\")"
   ]
  },
  {
   "cell_type": "code",
   "execution_count": 47,
   "id": "afaa7caa",
   "metadata": {},
   "outputs": [
    {
     "name": "stdout",
     "output_type": "stream",
     "text": [
      "Data has been scraped and saved to 'billboard_hot100.csv'.\n"
     ]
    },
    {
     "data": {
      "text/html": [
       "<div>\n",
       "<style scoped>\n",
       "    .dataframe tbody tr th:only-of-type {\n",
       "        vertical-align: middle;\n",
       "    }\n",
       "\n",
       "    .dataframe tbody tr th {\n",
       "        vertical-align: top;\n",
       "    }\n",
       "\n",
       "    .dataframe thead th {\n",
       "        text-align: right;\n",
       "    }\n",
       "</style>\n",
       "<table border=\"1\" class=\"dataframe\">\n",
       "  <thead>\n",
       "    <tr style=\"text-align: right;\">\n",
       "      <th></th>\n",
       "      <th>Song</th>\n",
       "      <th>Artist</th>\n",
       "    </tr>\n",
       "  </thead>\n",
       "  <tbody>\n",
       "    <tr>\n",
       "      <th>0</th>\n",
       "      <td>Paint The Town Red</td>\n",
       "      <td>Doja Cat</td>\n",
       "    </tr>\n",
       "    <tr>\n",
       "      <th>1</th>\n",
       "      <td>Snooze</td>\n",
       "      <td>SZA</td>\n",
       "    </tr>\n",
       "    <tr>\n",
       "      <th>2</th>\n",
       "      <td>Cruel Summer</td>\n",
       "      <td>Taylor Swift</td>\n",
       "    </tr>\n",
       "    <tr>\n",
       "      <th>3</th>\n",
       "      <td>Fast Car</td>\n",
       "      <td>Luke Combs</td>\n",
       "    </tr>\n",
       "    <tr>\n",
       "      <th>4</th>\n",
       "      <td>3D</td>\n",
       "      <td>Jung Kook &amp; Jack Harlow</td>\n",
       "    </tr>\n",
       "    <tr>\n",
       "      <th>...</th>\n",
       "      <td>...</td>\n",
       "      <td>...</td>\n",
       "    </tr>\n",
       "    <tr>\n",
       "      <th>95</th>\n",
       "      <td>Long Journey</td>\n",
       "      <td>Rod Wave</td>\n",
       "    </tr>\n",
       "    <tr>\n",
       "      <th>96</th>\n",
       "      <td>But I Got A Beer In My Hand</td>\n",
       "      <td>Luke Bryan</td>\n",
       "    </tr>\n",
       "    <tr>\n",
       "      <th>97</th>\n",
       "      <td>Rubicon</td>\n",
       "      <td>Peso Pluma</td>\n",
       "    </tr>\n",
       "    <tr>\n",
       "      <th>98</th>\n",
       "      <td>East Side Of Sorrow</td>\n",
       "      <td>Zach Bryan</td>\n",
       "    </tr>\n",
       "    <tr>\n",
       "      <th>99</th>\n",
       "      <td>Where She Goes</td>\n",
       "      <td>Bad Bunny</td>\n",
       "    </tr>\n",
       "  </tbody>\n",
       "</table>\n",
       "<p>100 rows × 2 columns</p>\n",
       "</div>"
      ],
      "text/plain": [
       "                           Song                   Artist\n",
       "0            Paint The Town Red                 Doja Cat\n",
       "1                        Snooze                      SZA\n",
       "2                  Cruel Summer             Taylor Swift\n",
       "3                      Fast Car               Luke Combs\n",
       "4                            3D  Jung Kook & Jack Harlow\n",
       "..                          ...                      ...\n",
       "95                 Long Journey                 Rod Wave\n",
       "96  But I Got A Beer In My Hand               Luke Bryan\n",
       "97                      Rubicon               Peso Pluma\n",
       "98          East Side Of Sorrow               Zach Bryan\n",
       "99               Where She Goes                Bad Bunny\n",
       "\n",
       "[100 rows x 2 columns]"
      ]
     },
     "execution_count": 47,
     "metadata": {},
     "output_type": "execute_result"
    }
   ],
   "source": [
    "scrape_hot100(url)"
   ]
  },
  {
   "cell_type": "code",
   "execution_count": null,
   "id": "d8c0cd8f",
   "metadata": {},
   "outputs": [],
   "source": []
  }
 ],
 "metadata": {
  "kernelspec": {
   "display_name": "Python 3 (ipykernel)",
   "language": "python",
   "name": "python3"
  },
  "language_info": {
   "codemirror_mode": {
    "name": "ipython",
    "version": 3
   },
   "file_extension": ".py",
   "mimetype": "text/x-python",
   "name": "python",
   "nbconvert_exporter": "python",
   "pygments_lexer": "ipython3",
   "version": "3.11.4"
  }
 },
 "nbformat": 4,
 "nbformat_minor": 5
}
